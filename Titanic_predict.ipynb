{
 "cells": [
  {
   "cell_type": "markdown",
   "metadata": {
    "id": "pspyhDLvJhst"
   },
   "source": [
    "# Прогноз выживаемости пассажиров на Титанике"
   ]
  },
  {
   "cell_type": "markdown",
   "metadata": {},
   "source": [
    "## Оглавление\n",
    "- [Описание проекта](#1)\n",
    "- [Импорт библиотек и данных](#2)\n",
    "- [Обзор данных](#3)\n",
    "- [Подготовка данных](#4)\n",
    "- [Исследовательский анализ данных](#5)\n",
    "- [Обучение моделей](#6)\n",
    "- [Итог](#7)"
   ]
  },
  {
   "cell_type": "markdown",
   "metadata": {},
   "source": [
    "## <a id='1'>Описание проекта</a>"
   ]
  },
  {
   "cell_type": "markdown",
   "metadata": {},
   "source": [
    "- [Перейти к следующему блоку](#2)"
   ]
  },
  {
   "cell_type": "markdown",
   "metadata": {},
   "source": [
    "Источник данных: https://www.kaggle.com/c/titanic/overview\n",
    "\n",
    "Крушение Титаника - одно из самых печально известных кораблекрушений в истории.\n",
    "\n",
    "15 апреля 1912 года во время своего первого рейса широко известный «непотопляемый» Титаник затонул после столкновения с айсбергом. К сожалению, на борту не хватило спасательных шлюпок на всех, в результате чего погибли 1502 человека из 2224 пассажиров и членов экипажа.\n",
    "\n",
    "Хотя в выживании был определенный элемент удачи, похоже, некоторые группы людей выживали с большей вероятностью, чем другие.\n",
    "\n",
    "В этой задаче мы просим вас построить прогностическую модель, которая отвечает на вопрос: «Какие типы людей выживут с большей вероятностью?» с использованием данных о пассажирах (например, имя, возраст, пол, социально-экономический класс и т. д.)."
   ]
  },
  {
   "cell_type": "markdown",
   "metadata": {},
   "source": [
    "## <a id='2'>Импорт библиотек и данных</a>"
   ]
  },
  {
   "cell_type": "markdown",
   "metadata": {},
   "source": [
    "- [Перейти к предыдущему блоку](#1)\n",
    "- [Перейти к следующему блоку](#3)"
   ]
  },
  {
   "cell_type": "markdown",
   "metadata": {
    "id": "XX6N0DnrC_Ga"
   },
   "source": [
    "Импортируем все необходимые библиотеки. "
   ]
  },
  {
   "cell_type": "code",
   "execution_count": 1,
   "metadata": {
    "colab": {
     "base_uri": "https://localhost:8080/"
    },
    "id": "9kwQuxKueBVN",
    "outputId": "53a634e8-830d-4cdd-8b75-89ac987c0f10"
   },
   "outputs": [],
   "source": [
    "import pandas as pd\n",
    "import numpy as np\n",
    "%matplotlib inline\n",
    "import matplotlib.pyplot as plt\n",
    "from pylab import rcParams\n",
    "rcParams['figure.figsize'] = 11, 7\n",
    "import seaborn as sns\n",
    "import warnings\n",
    "warnings.filterwarnings('ignore')\n",
    "from sklearn.preprocessing import OneHotEncoder\n",
    "\n",
    "#Модели\n",
    "from sklearn.ensemble import RandomForestClassifier\n",
    "from sklearn.ensemble import ExtraTreesClassifier\n",
    "from catboost import CatBoostClassifier\n",
    "\n",
    "from sklearn.model_selection import GridSearchCV"
   ]
  },
  {
   "cell_type": "markdown",
   "metadata": {},
   "source": [
    "Импортируем необходимые для работы файлы. "
   ]
  },
  {
   "cell_type": "code",
   "execution_count": 2,
   "metadata": {
    "id": "C_YfCXoS-O9s"
   },
   "outputs": [],
   "source": [
    "train = pd.read_csv('/Users/valeriaastahova/Desktop/Kaggle/Титаник /train.csv')\n",
    "test = pd.read_csv('/Users/valeriaastahova/Desktop/Kaggle/Титаник /test.csv')\n",
    "gender_sub = pd.read_csv('/Users/valeriaastahova/Desktop/Kaggle/Титаник /gender_submission.csv') \n",
    "# gender_sub - пример формата вывода для загрузки на кеггль"
   ]
  },
  {
   "cell_type": "markdown",
   "metadata": {
    "id": "JE4MaAvzCoq5"
   },
   "source": [
    "## <a id='3'>Обзор данных</a> "
   ]
  },
  {
   "cell_type": "markdown",
   "metadata": {},
   "source": [
    "- [Перейти в начало проекта](#1)\n",
    "- [Перейти к предыдущему блоку](#2)\n",
    "- [Перейти к следующему блоку](#4)"
   ]
  },
  {
   "cell_type": "markdown",
   "metadata": {
    "id": "C6G79pL-Bmu8"
   },
   "source": [
    "Посмотрим информацию о тренировочном датасете."
   ]
  },
  {
   "cell_type": "code",
   "execution_count": 3,
   "metadata": {
    "colab": {
     "base_uri": "https://localhost:8080/",
     "height": 496
    },
    "id": "KXRRhjlKfE_b",
    "outputId": "52db3e6d-d8e1-44a3-c705-a4693cee3a35"
   },
   "outputs": [
    {
     "data": {
      "text/html": [
       "<div>\n",
       "<style scoped>\n",
       "    .dataframe tbody tr th:only-of-type {\n",
       "        vertical-align: middle;\n",
       "    }\n",
       "\n",
       "    .dataframe tbody tr th {\n",
       "        vertical-align: top;\n",
       "    }\n",
       "\n",
       "    .dataframe thead th {\n",
       "        text-align: right;\n",
       "    }\n",
       "</style>\n",
       "<table border=\"1\" class=\"dataframe\">\n",
       "  <thead>\n",
       "    <tr style=\"text-align: right;\">\n",
       "      <th></th>\n",
       "      <th>PassengerId</th>\n",
       "      <th>Survived</th>\n",
       "      <th>Pclass</th>\n",
       "      <th>Name</th>\n",
       "      <th>Sex</th>\n",
       "      <th>Age</th>\n",
       "      <th>SibSp</th>\n",
       "      <th>Parch</th>\n",
       "      <th>Ticket</th>\n",
       "      <th>Fare</th>\n",
       "      <th>Cabin</th>\n",
       "      <th>Embarked</th>\n",
       "    </tr>\n",
       "  </thead>\n",
       "  <tbody>\n",
       "    <tr>\n",
       "      <th>0</th>\n",
       "      <td>1</td>\n",
       "      <td>0</td>\n",
       "      <td>3</td>\n",
       "      <td>Braund, Mr. Owen Harris</td>\n",
       "      <td>male</td>\n",
       "      <td>22.0</td>\n",
       "      <td>1</td>\n",
       "      <td>0</td>\n",
       "      <td>A/5 21171</td>\n",
       "      <td>7.2500</td>\n",
       "      <td>NaN</td>\n",
       "      <td>S</td>\n",
       "    </tr>\n",
       "    <tr>\n",
       "      <th>1</th>\n",
       "      <td>2</td>\n",
       "      <td>1</td>\n",
       "      <td>1</td>\n",
       "      <td>Cumings, Mrs. John Bradley (Florence Briggs Th...</td>\n",
       "      <td>female</td>\n",
       "      <td>38.0</td>\n",
       "      <td>1</td>\n",
       "      <td>0</td>\n",
       "      <td>PC 17599</td>\n",
       "      <td>71.2833</td>\n",
       "      <td>C85</td>\n",
       "      <td>C</td>\n",
       "    </tr>\n",
       "    <tr>\n",
       "      <th>2</th>\n",
       "      <td>3</td>\n",
       "      <td>1</td>\n",
       "      <td>3</td>\n",
       "      <td>Heikkinen, Miss. Laina</td>\n",
       "      <td>female</td>\n",
       "      <td>26.0</td>\n",
       "      <td>0</td>\n",
       "      <td>0</td>\n",
       "      <td>STON/O2. 3101282</td>\n",
       "      <td>7.9250</td>\n",
       "      <td>NaN</td>\n",
       "      <td>S</td>\n",
       "    </tr>\n",
       "    <tr>\n",
       "      <th>3</th>\n",
       "      <td>4</td>\n",
       "      <td>1</td>\n",
       "      <td>1</td>\n",
       "      <td>Futrelle, Mrs. Jacques Heath (Lily May Peel)</td>\n",
       "      <td>female</td>\n",
       "      <td>35.0</td>\n",
       "      <td>1</td>\n",
       "      <td>0</td>\n",
       "      <td>113803</td>\n",
       "      <td>53.1000</td>\n",
       "      <td>C123</td>\n",
       "      <td>S</td>\n",
       "    </tr>\n",
       "    <tr>\n",
       "      <th>4</th>\n",
       "      <td>5</td>\n",
       "      <td>0</td>\n",
       "      <td>3</td>\n",
       "      <td>Allen, Mr. William Henry</td>\n",
       "      <td>male</td>\n",
       "      <td>35.0</td>\n",
       "      <td>0</td>\n",
       "      <td>0</td>\n",
       "      <td>373450</td>\n",
       "      <td>8.0500</td>\n",
       "      <td>NaN</td>\n",
       "      <td>S</td>\n",
       "    </tr>\n",
       "  </tbody>\n",
       "</table>\n",
       "</div>"
      ],
      "text/plain": [
       "   PassengerId  Survived  Pclass  \\\n",
       "0            1         0       3   \n",
       "1            2         1       1   \n",
       "2            3         1       3   \n",
       "3            4         1       1   \n",
       "4            5         0       3   \n",
       "\n",
       "                                                Name     Sex   Age  SibSp  \\\n",
       "0                            Braund, Mr. Owen Harris    male  22.0      1   \n",
       "1  Cumings, Mrs. John Bradley (Florence Briggs Th...  female  38.0      1   \n",
       "2                             Heikkinen, Miss. Laina  female  26.0      0   \n",
       "3       Futrelle, Mrs. Jacques Heath (Lily May Peel)  female  35.0      1   \n",
       "4                           Allen, Mr. William Henry    male  35.0      0   \n",
       "\n",
       "   Parch            Ticket     Fare Cabin Embarked  \n",
       "0      0         A/5 21171   7.2500   NaN        S  \n",
       "1      0          PC 17599  71.2833   C85        C  \n",
       "2      0  STON/O2. 3101282   7.9250   NaN        S  \n",
       "3      0            113803  53.1000  C123        S  \n",
       "4      0            373450   8.0500   NaN        S  "
      ]
     },
     "execution_count": 3,
     "metadata": {},
     "output_type": "execute_result"
    }
   ],
   "source": [
    "train.head()"
   ]
  },
  {
   "cell_type": "code",
   "execution_count": 4,
   "metadata": {
    "colab": {
     "base_uri": "https://localhost:8080/"
    },
    "id": "yZq1wliW-1hj",
    "outputId": "91540bb8-5a4b-4b2f-da67-98fd09dc31e5"
   },
   "outputs": [
    {
     "name": "stdout",
     "output_type": "stream",
     "text": [
      "<class 'pandas.core.frame.DataFrame'>\n",
      "RangeIndex: 891 entries, 0 to 890\n",
      "Data columns (total 12 columns):\n",
      " #   Column       Non-Null Count  Dtype  \n",
      "---  ------       --------------  -----  \n",
      " 0   PassengerId  891 non-null    int64  \n",
      " 1   Survived     891 non-null    int64  \n",
      " 2   Pclass       891 non-null    int64  \n",
      " 3   Name         891 non-null    object \n",
      " 4   Sex          891 non-null    object \n",
      " 5   Age          714 non-null    float64\n",
      " 6   SibSp        891 non-null    int64  \n",
      " 7   Parch        891 non-null    int64  \n",
      " 8   Ticket       891 non-null    object \n",
      " 9   Fare         891 non-null    float64\n",
      " 10  Cabin        204 non-null    object \n",
      " 11  Embarked     889 non-null    object \n",
      "dtypes: float64(2), int64(5), object(5)\n",
      "memory usage: 83.7+ KB\n"
     ]
    }
   ],
   "source": [
    "train.info()"
   ]
  },
  {
   "cell_type": "markdown",
   "metadata": {
    "id": "yxDc5kjFBqnA"
   },
   "source": [
    "У нас есть следующие столбцы: \n",
    "* PassengerId – ID пассажира\n",
    "* Survived – целевой признак, факт выживания \n",
    "* Pclass – класс билета \n",
    "* Name – имя - столбец, который, скорее всего, нам не пригодится, потому что никакую зависимость от имени мы выявить не сможем\n",
    "* Sex – пол \n",
    "* Age – возраст \n",
    "* SibSp – братья/сестры на борту (?)\n",
    "* Parch – родители/дети на борту (?)\n",
    "* Ticket – номер билета - как и имя, это, скорее всего, лишний признак, который не будет нести в себе никакой информации, потому что номера билетов так же уникальны\n",
    "* Fare – тариф/стоимость (?)\n",
    "* Cabin – номер каюты - наиболее вероятно, что номер каюты тоже никак напрямую не влияет на выживаемость. При этом в этом столбце очень много пропусков, заполнить которые мы, конечно же, не сможем адекватно.\n",
    "* Embarked – порт посадки (?) - тоже сомнительный признак, но выводы по нему мы сделаем после рассмотрения матрицы корреляций \n"
   ]
  },
  {
   "cell_type": "markdown",
   "metadata": {
    "id": "hUATqbwUFVyd"
   },
   "source": [
    "После беглого обзора данных были выявлены следующие проблемы: \n",
    "* Названия столбцов написаны разными регистрами, для удобства приведем названия столбцов к нижнему регистру \n",
    "* Есть лишние признаки, которые, скорее всего, не могут влиять на факт выживаемости (например, имя пассажира или номер билета)\n",
    "* Есть пропуски в столбцах с возрастом и номером кабины, а также два пропуска в столбце с портом посадки. Если номер кабины вряд ли пригодится нам для построения модели, то возраст, вероятно, имеет значение\n",
    "* Столбцы с типом object, которые нужно привести к int или float \n",
    "* Столбец Age имеет тип float, нужно привести его к типу int\n",
    "* Есть категориальные признаки (например, Pclass), которые необходимо закодировать"
   ]
  },
  {
   "cell_type": "code",
   "execution_count": 5,
   "metadata": {
    "colab": {
     "base_uri": "https://localhost:8080/"
    },
    "id": "RN_0Z_8ciatg",
    "outputId": "c552441d-fa4a-4dc6-eef1-dd92f93205a2"
   },
   "outputs": [
    {
     "name": "stdout",
     "output_type": "stream",
     "text": [
      "<class 'pandas.core.frame.DataFrame'>\n",
      "RangeIndex: 418 entries, 0 to 417\n",
      "Data columns (total 11 columns):\n",
      " #   Column       Non-Null Count  Dtype  \n",
      "---  ------       --------------  -----  \n",
      " 0   PassengerId  418 non-null    int64  \n",
      " 1   Pclass       418 non-null    int64  \n",
      " 2   Name         418 non-null    object \n",
      " 3   Sex          418 non-null    object \n",
      " 4   Age          332 non-null    float64\n",
      " 5   SibSp        418 non-null    int64  \n",
      " 6   Parch        418 non-null    int64  \n",
      " 7   Ticket       418 non-null    object \n",
      " 8   Fare         417 non-null    float64\n",
      " 9   Cabin        91 non-null     object \n",
      " 10  Embarked     418 non-null    object \n",
      "dtypes: float64(2), int64(4), object(5)\n",
      "memory usage: 36.0+ KB\n"
     ]
    }
   ],
   "source": [
    "test.info()"
   ]
  },
  {
   "cell_type": "markdown",
   "metadata": {
    "id": "BK9qXtygieTz"
   },
   "source": [
    "Выше видно, что в тестовом датасете у нас тоже есть пропущенные значения и неправильные форматы данных. "
   ]
  },
  {
   "cell_type": "markdown",
   "metadata": {
    "id": "7-dRIFEaDPvU"
   },
   "source": [
    "Посмотрим на распределения количественных данных."
   ]
  },
  {
   "cell_type": "code",
   "execution_count": 6,
   "metadata": {
    "colab": {
     "base_uri": "https://localhost:8080/",
     "height": 317
    },
    "id": "gtueee5ADKnO",
    "outputId": "544adb3d-53cf-41c2-f242-fa69eb9fa729"
   },
   "outputs": [
    {
     "data": {
      "text/html": [
       "<div>\n",
       "<style scoped>\n",
       "    .dataframe tbody tr th:only-of-type {\n",
       "        vertical-align: middle;\n",
       "    }\n",
       "\n",
       "    .dataframe tbody tr th {\n",
       "        vertical-align: top;\n",
       "    }\n",
       "\n",
       "    .dataframe thead th {\n",
       "        text-align: right;\n",
       "    }\n",
       "</style>\n",
       "<table border=\"1\" class=\"dataframe\">\n",
       "  <thead>\n",
       "    <tr style=\"text-align: right;\">\n",
       "      <th></th>\n",
       "      <th>PassengerId</th>\n",
       "      <th>Survived</th>\n",
       "      <th>Pclass</th>\n",
       "      <th>Age</th>\n",
       "      <th>SibSp</th>\n",
       "      <th>Parch</th>\n",
       "      <th>Fare</th>\n",
       "    </tr>\n",
       "  </thead>\n",
       "  <tbody>\n",
       "    <tr>\n",
       "      <th>count</th>\n",
       "      <td>891.000000</td>\n",
       "      <td>891.000000</td>\n",
       "      <td>891.000000</td>\n",
       "      <td>714.000000</td>\n",
       "      <td>891.000000</td>\n",
       "      <td>891.000000</td>\n",
       "      <td>891.000000</td>\n",
       "    </tr>\n",
       "    <tr>\n",
       "      <th>mean</th>\n",
       "      <td>446.000000</td>\n",
       "      <td>0.383838</td>\n",
       "      <td>2.308642</td>\n",
       "      <td>29.699118</td>\n",
       "      <td>0.523008</td>\n",
       "      <td>0.381594</td>\n",
       "      <td>32.204208</td>\n",
       "    </tr>\n",
       "    <tr>\n",
       "      <th>std</th>\n",
       "      <td>257.353842</td>\n",
       "      <td>0.486592</td>\n",
       "      <td>0.836071</td>\n",
       "      <td>14.526497</td>\n",
       "      <td>1.102743</td>\n",
       "      <td>0.806057</td>\n",
       "      <td>49.693429</td>\n",
       "    </tr>\n",
       "    <tr>\n",
       "      <th>min</th>\n",
       "      <td>1.000000</td>\n",
       "      <td>0.000000</td>\n",
       "      <td>1.000000</td>\n",
       "      <td>0.420000</td>\n",
       "      <td>0.000000</td>\n",
       "      <td>0.000000</td>\n",
       "      <td>0.000000</td>\n",
       "    </tr>\n",
       "    <tr>\n",
       "      <th>25%</th>\n",
       "      <td>223.500000</td>\n",
       "      <td>0.000000</td>\n",
       "      <td>2.000000</td>\n",
       "      <td>20.125000</td>\n",
       "      <td>0.000000</td>\n",
       "      <td>0.000000</td>\n",
       "      <td>7.910400</td>\n",
       "    </tr>\n",
       "    <tr>\n",
       "      <th>50%</th>\n",
       "      <td>446.000000</td>\n",
       "      <td>0.000000</td>\n",
       "      <td>3.000000</td>\n",
       "      <td>28.000000</td>\n",
       "      <td>0.000000</td>\n",
       "      <td>0.000000</td>\n",
       "      <td>14.454200</td>\n",
       "    </tr>\n",
       "    <tr>\n",
       "      <th>75%</th>\n",
       "      <td>668.500000</td>\n",
       "      <td>1.000000</td>\n",
       "      <td>3.000000</td>\n",
       "      <td>38.000000</td>\n",
       "      <td>1.000000</td>\n",
       "      <td>0.000000</td>\n",
       "      <td>31.000000</td>\n",
       "    </tr>\n",
       "    <tr>\n",
       "      <th>max</th>\n",
       "      <td>891.000000</td>\n",
       "      <td>1.000000</td>\n",
       "      <td>3.000000</td>\n",
       "      <td>80.000000</td>\n",
       "      <td>8.000000</td>\n",
       "      <td>6.000000</td>\n",
       "      <td>512.329200</td>\n",
       "    </tr>\n",
       "  </tbody>\n",
       "</table>\n",
       "</div>"
      ],
      "text/plain": [
       "       PassengerId    Survived      Pclass         Age       SibSp  \\\n",
       "count   891.000000  891.000000  891.000000  714.000000  891.000000   \n",
       "mean    446.000000    0.383838    2.308642   29.699118    0.523008   \n",
       "std     257.353842    0.486592    0.836071   14.526497    1.102743   \n",
       "min       1.000000    0.000000    1.000000    0.420000    0.000000   \n",
       "25%     223.500000    0.000000    2.000000   20.125000    0.000000   \n",
       "50%     446.000000    0.000000    3.000000   28.000000    0.000000   \n",
       "75%     668.500000    1.000000    3.000000   38.000000    1.000000   \n",
       "max     891.000000    1.000000    3.000000   80.000000    8.000000   \n",
       "\n",
       "            Parch        Fare  \n",
       "count  891.000000  891.000000  \n",
       "mean     0.381594   32.204208  \n",
       "std      0.806057   49.693429  \n",
       "min      0.000000    0.000000  \n",
       "25%      0.000000    7.910400  \n",
       "50%      0.000000   14.454200  \n",
       "75%      0.000000   31.000000  \n",
       "max      6.000000  512.329200  "
      ]
     },
     "execution_count": 6,
     "metadata": {},
     "output_type": "execute_result"
    }
   ],
   "source": [
    "train.describe()"
   ]
  },
  {
   "cell_type": "markdown",
   "metadata": {
    "id": "w_c6ZtlZGmej"
   },
   "source": [
    "Единственная странность в этих распределениях – что возраст не является целочисленной переменной. Вероятно, его вычисляли с учетом дополнительных месяцев, но для нас это не имеет значения, поэтому тип данных необходимо будет изменить. \n",
    "\n",
    "Также видно, что признаки имеют совершенно разные распределения. Например, у признака Fare очень высокие максимальные значения в сравнении с остальными признаками. Это может негативно сказаться на линейных моделях, потому что они будут присваивать ему бОльшие веса. Если будем использовать линейные модели, необходимо будет нормировать данные. "
   ]
  },
  {
   "cell_type": "markdown",
   "metadata": {
    "id": "Xrm84zW3Hyxr"
   },
   "source": [
    "Проверим баланс классов в тренировочной выборке."
   ]
  },
  {
   "cell_type": "code",
   "execution_count": 7,
   "metadata": {
    "colab": {
     "base_uri": "https://localhost:8080/"
    },
    "id": "VQlu3A73H1dR",
    "outputId": "327ae470-18d8-45b0-fea5-5398ecb2ff4f"
   },
   "outputs": [
    {
     "data": {
      "text/plain": [
       "0    549\n",
       "1    342\n",
       "Name: Survived, dtype: int64"
      ]
     },
     "execution_count": 7,
     "metadata": {},
     "output_type": "execute_result"
    }
   ],
   "source": [
    "train['Survived'].value_counts()"
   ]
  },
  {
   "cell_type": "markdown",
   "metadata": {
    "id": "qunzRf3vIBcb"
   },
   "source": [
    "60/40 – не идеально, но вполне неплохо. "
   ]
  },
  {
   "cell_type": "markdown",
   "metadata": {
    "id": "XsGJZW2CJxFP"
   },
   "source": [
    "### Итог обзора данных \n",
    "Были выявлены следующие проблемы: \n",
    "* Названия столбцов написаны разными регистрами, необходимо все их привести к нижнему регистру \n",
    "* Есть лишние признаки, которые, скорее всего, не могут влиять на факт выживаемости (например, имя пассажира или номер билета)\n",
    "* Есть пропуски в столбцах с возрастом и номером кабины, а также два пропуска в столбце с портом посадки. Если номер кабины вряд ли пригодится нам для построения модели, то возраст, вероятно, имеет значение\n",
    "* Столбцы с типом object, которые нужно привести к int или float \n",
    "* Столбец Age имеет тип float, нужно привести его к типу int\n",
    "\n",
    "Отдельно после тестового обучения моделей можно попробовать сделать: \n",
    "* Есть категориальные признаки (например, Pclass), которые необходимо закодировать\n",
    "* Нормирование данных (для линейных моделей) \n",
    "* Балансировка классов (при необходимости) "
   ]
  },
  {
   "cell_type": "markdown",
   "metadata": {
    "id": "ww5Kdg44Ct38"
   },
   "source": [
    "## <a id='4'>Подготовка данных</a>"
   ]
  },
  {
   "cell_type": "markdown",
   "metadata": {},
   "source": [
    "- [Перейти в начало проекта](#1)\n",
    "- [Перейти к предыдущему блоку](#3)\n",
    "- [Перейти к следующему блоку](#5)"
   ]
  },
  {
   "cell_type": "markdown",
   "metadata": {
    "id": "xf4m-JhoKi_Q"
   },
   "source": [
    "По итогам обзора данных нам необходимо: \n",
    "* Привести названия столбцов к нижнему регистру \n",
    "* Удалить лишние признаки (например, имя пассажира или номер билета)\n",
    "* Удалить или заполнить пропуски\n",
    "* Привести к int или float столбцы с типом object\n",
    "* Привести к типу int столбец Age с типом float"
   ]
  },
  {
   "cell_type": "markdown",
   "metadata": {
    "id": "uGH5_w0mffec"
   },
   "source": [
    "Начнем с приведения названий столбцов к нижнему регистру. "
   ]
  },
  {
   "cell_type": "code",
   "execution_count": 8,
   "metadata": {
    "id": "CPTJ03P8gUAN"
   },
   "outputs": [],
   "source": [
    "train.columns = train.columns.str.lower()\n",
    "test.columns = test.columns.str.lower()"
   ]
  },
  {
   "cell_type": "code",
   "execution_count": 9,
   "metadata": {
    "colab": {
     "base_uri": "https://localhost:8080/"
    },
    "id": "KXczGCGIhEIK",
    "outputId": "0402ada1-4a6a-4d79-d572-3c370a294dfd"
   },
   "outputs": [
    {
     "name": "stdout",
     "output_type": "stream",
     "text": [
      "<class 'pandas.core.frame.DataFrame'>\n",
      "RangeIndex: 891 entries, 0 to 890\n",
      "Data columns (total 12 columns):\n",
      " #   Column       Non-Null Count  Dtype  \n",
      "---  ------       --------------  -----  \n",
      " 0   passengerid  891 non-null    int64  \n",
      " 1   survived     891 non-null    int64  \n",
      " 2   pclass       891 non-null    int64  \n",
      " 3   name         891 non-null    object \n",
      " 4   sex          891 non-null    object \n",
      " 5   age          714 non-null    float64\n",
      " 6   sibsp        891 non-null    int64  \n",
      " 7   parch        891 non-null    int64  \n",
      " 8   ticket       891 non-null    object \n",
      " 9   fare         891 non-null    float64\n",
      " 10  cabin        204 non-null    object \n",
      " 11  embarked     889 non-null    object \n",
      "dtypes: float64(2), int64(5), object(5)\n",
      "memory usage: 83.7+ KB\n"
     ]
    }
   ],
   "source": [
    "train.info()"
   ]
  },
  {
   "cell_type": "markdown",
   "metadata": {
    "id": "ygrsi5SRg_fI"
   },
   "source": [
    "Удалим лишние признаки name, ticket, cabin. Предварительно удостоверимся, что уникальных значений в ticket и cabin действительно слишком много, а значит, признаки не являются категориальными и не могут влиять на целевой признак."
   ]
  },
  {
   "cell_type": "code",
   "execution_count": 10,
   "metadata": {
    "colab": {
     "base_uri": "https://localhost:8080/"
    },
    "id": "BJ1QuOLNhJTN",
    "outputId": "67e6b3c7-628d-465c-95be-34a07d67fd32"
   },
   "outputs": [
    {
     "data": {
      "text/plain": [
       "CA. 2343    7\n",
       "1601        7\n",
       "347082      7\n",
       "CA 2144     6\n",
       "347088      6\n",
       "           ..\n",
       "PC 17595    1\n",
       "PC 17612    1\n",
       "350034      1\n",
       "370375      1\n",
       "14312       1\n",
       "Name: ticket, Length: 681, dtype: int64"
      ]
     },
     "execution_count": 10,
     "metadata": {},
     "output_type": "execute_result"
    }
   ],
   "source": [
    "train['ticket'].value_counts()"
   ]
  },
  {
   "cell_type": "markdown",
   "metadata": {
    "id": "776mqBLUhdp3"
   },
   "source": [
    "У нас есть 681 уникальное значение в этом столбце. Никакой зависимости здесь быть не может. Мы можем смело удалять этот столбец. Проверим столбец cabin."
   ]
  },
  {
   "cell_type": "code",
   "execution_count": 11,
   "metadata": {
    "colab": {
     "base_uri": "https://localhost:8080/"
    },
    "id": "lpRcjjLHjPRt",
    "outputId": "ef1a16da-e108-4707-ba54-aa74104d7214"
   },
   "outputs": [
    {
     "data": {
      "text/plain": [
       "C23 C25 C27    4\n",
       "B96 B98        4\n",
       "G6             4\n",
       "C22 C26        3\n",
       "E101           3\n",
       "              ..\n",
       "A5             1\n",
       "D10 D12        1\n",
       "D46            1\n",
       "D9             1\n",
       "A16            1\n",
       "Name: cabin, Length: 147, dtype: int64"
      ]
     },
     "execution_count": 11,
     "metadata": {},
     "output_type": "execute_result"
    }
   ],
   "source": [
    "train['cabin'].value_counts()"
   ]
  },
  {
   "cell_type": "markdown",
   "metadata": {
    "id": "VMlG_65xjRf4"
   },
   "source": [
    "Здесь наблюдается та же ситуация. В 204 строках у нас целых 147 уникальных значений. Столбец можно удалять. "
   ]
  },
  {
   "cell_type": "code",
   "execution_count": 12,
   "metadata": {
    "id": "aL_edunGhBvz"
   },
   "outputs": [],
   "source": [
    "train = train.drop(['name', 'ticket', 'cabin'], axis=1)\n",
    "test = test.drop(['name', 'ticket', 'cabin'], axis=1)"
   ]
  },
  {
   "cell_type": "markdown",
   "metadata": {
    "id": "z7qapuZSiqwB"
   },
   "source": [
    "Перейдем к анализу пропусков. Пропущенные значения есть в столбце age и два пропущенных значения есть в столбце embarked. Столбец age я предлагаю заполнить медианным значением."
   ]
  },
  {
   "cell_type": "code",
   "execution_count": 13,
   "metadata": {
    "id": "rv3DuW4WkRB1"
   },
   "outputs": [],
   "source": [
    "train['age'] = train['age'].fillna(train['age'].median())\n",
    "test['age'] = test['age'].fillna(test['age'].median())"
   ]
  },
  {
   "cell_type": "markdown",
   "metadata": {
    "id": "AOwXCUaTm47V"
   },
   "source": [
    "Строки с пропусками в столбце embarked мы удалим (их всего 2, это никак не повлияет на нашу выборку). А тестовом датасете пропуск в столбце заполним медианным значением. \n",
    "\n"
   ]
  },
  {
   "cell_type": "code",
   "execution_count": 14,
   "metadata": {
    "colab": {
     "base_uri": "https://localhost:8080/"
    },
    "id": "eq2V9InlmwgW",
    "outputId": "5eb27b92-7e43-4561-c5a9-bcfd1552f83f"
   },
   "outputs": [
    {
     "name": "stdout",
     "output_type": "stream",
     "text": [
      "<class 'pandas.core.frame.DataFrame'>\n",
      "RangeIndex: 889 entries, 0 to 888\n",
      "Data columns (total 9 columns):\n",
      " #   Column       Non-Null Count  Dtype  \n",
      "---  ------       --------------  -----  \n",
      " 0   passengerid  889 non-null    int64  \n",
      " 1   survived     889 non-null    int64  \n",
      " 2   pclass       889 non-null    int64  \n",
      " 3   sex          889 non-null    object \n",
      " 4   age          889 non-null    float64\n",
      " 5   sibsp        889 non-null    int64  \n",
      " 6   parch        889 non-null    int64  \n",
      " 7   fare         889 non-null    float64\n",
      " 8   embarked     889 non-null    object \n",
      "dtypes: float64(2), int64(5), object(2)\n",
      "memory usage: 62.6+ KB\n"
     ]
    }
   ],
   "source": [
    "train = train.dropna().reset_index(drop=True)\n",
    "train.info()"
   ]
  },
  {
   "cell_type": "code",
   "execution_count": 15,
   "metadata": {
    "colab": {
     "base_uri": "https://localhost:8080/"
    },
    "id": "pGdwASBQnYwn",
    "outputId": "be650c76-87d7-4de2-90f7-3df17beb2589"
   },
   "outputs": [
    {
     "name": "stdout",
     "output_type": "stream",
     "text": [
      "<class 'pandas.core.frame.DataFrame'>\n",
      "RangeIndex: 418 entries, 0 to 417\n",
      "Data columns (total 8 columns):\n",
      " #   Column       Non-Null Count  Dtype  \n",
      "---  ------       --------------  -----  \n",
      " 0   passengerid  418 non-null    int64  \n",
      " 1   pclass       418 non-null    int64  \n",
      " 2   sex          418 non-null    object \n",
      " 3   age          418 non-null    float64\n",
      " 4   sibsp        418 non-null    int64  \n",
      " 5   parch        418 non-null    int64  \n",
      " 6   fare         418 non-null    float64\n",
      " 7   embarked     418 non-null    object \n",
      "dtypes: float64(2), int64(4), object(2)\n",
      "memory usage: 26.2+ KB\n"
     ]
    }
   ],
   "source": [
    "test['fare'] = test['fare'].fillna(test['fare'].median())\n",
    "test.info()"
   ]
  },
  {
   "cell_type": "markdown",
   "metadata": {
    "id": "X5IBXBKwntNX"
   },
   "source": [
    "Приведем данные в столбцах к нужным форматам. "
   ]
  },
  {
   "cell_type": "code",
   "execution_count": 16,
   "metadata": {
    "id": "FMqMklDjnsr0"
   },
   "outputs": [],
   "source": [
    "train['age'] = train['age'].astype(int)\n",
    "test['age'] = test['age'].astype(int)"
   ]
  },
  {
   "cell_type": "code",
   "execution_count": 17,
   "metadata": {
    "id": "okmAWQ1vrq_f"
   },
   "outputs": [],
   "source": [
    "train['fare'] = train['fare'].astype(int)\n",
    "test['fare'] = test['fare'].astype(int)"
   ]
  },
  {
   "cell_type": "code",
   "execution_count": 18,
   "metadata": {
    "colab": {
     "base_uri": "https://localhost:8080/"
    },
    "id": "EcjY_JnEhvq4",
    "outputId": "091b3564-8403-43bf-fb09-85210c19b9db"
   },
   "outputs": [
    {
     "name": "stdout",
     "output_type": "stream",
     "text": [
      "<class 'pandas.core.frame.DataFrame'>\n",
      "RangeIndex: 889 entries, 0 to 888\n",
      "Data columns (total 9 columns):\n",
      " #   Column       Non-Null Count  Dtype \n",
      "---  ------       --------------  ----- \n",
      " 0   passengerid  889 non-null    int64 \n",
      " 1   survived     889 non-null    int64 \n",
      " 2   pclass       889 non-null    int64 \n",
      " 3   sex          889 non-null    object\n",
      " 4   age          889 non-null    int64 \n",
      " 5   sibsp        889 non-null    int64 \n",
      " 6   parch        889 non-null    int64 \n",
      " 7   fare         889 non-null    int64 \n",
      " 8   embarked     889 non-null    object\n",
      "dtypes: int64(7), object(2)\n",
      "memory usage: 62.6+ KB\n"
     ]
    }
   ],
   "source": [
    "train.info()"
   ]
  },
  {
   "cell_type": "markdown",
   "metadata": {
    "id": "tURmxvs2FO1_"
   },
   "source": [
    "Мы закончили предобработку данных. Перейдем к исследовательскому анализу данных. "
   ]
  },
  {
   "cell_type": "markdown",
   "metadata": {
    "id": "dTMcGGVtFsN3"
   },
   "source": [
    "## <a id='5'>Исследовательский анализ данных</a>"
   ]
  },
  {
   "cell_type": "markdown",
   "metadata": {},
   "source": [
    "- [Перейти в начало проекта](#1)\n",
    "- [Перейти к предыдущему блоку](#4)\n",
    "- [Перейти к следующему блоку](#6)"
   ]
  },
  {
   "cell_type": "markdown",
   "metadata": {
    "id": "ZIhs9iNeF0PB"
   },
   "source": [
    "На исследовательский анализ данных у нас есть следующие цели:\n",
    "* посмотреть зависимости целевой переменной от всех признаков (построить матрицу корреляций)\n",
    "* убрать признаки с минимальной корреляцией\n",
    "* кодировать категориальные признаки \n",
    "* нормировать и балансировать признаки при необходимости "
   ]
  },
  {
   "cell_type": "markdown",
   "metadata": {
    "id": "X1RH_CwrGBtO"
   },
   "source": [
    "Начнем с исследования зависимости целевой переменной от всех признаков. "
   ]
  },
  {
   "cell_type": "code",
   "execution_count": 19,
   "metadata": {
    "colab": {
     "base_uri": "https://localhost:8080/",
     "height": 286
    },
    "id": "-xKU59VkF9R6",
    "outputId": "cabaff24-5b61-4eb6-e124-a732e87c235c"
   },
   "outputs": [
    {
     "data": {
      "text/html": [
       "<div>\n",
       "<style scoped>\n",
       "    .dataframe tbody tr th:only-of-type {\n",
       "        vertical-align: middle;\n",
       "    }\n",
       "\n",
       "    .dataframe tbody tr th {\n",
       "        vertical-align: top;\n",
       "    }\n",
       "\n",
       "    .dataframe thead th {\n",
       "        text-align: right;\n",
       "    }\n",
       "</style>\n",
       "<table border=\"1\" class=\"dataframe\">\n",
       "  <thead>\n",
       "    <tr style=\"text-align: right;\">\n",
       "      <th></th>\n",
       "      <th>passengerid</th>\n",
       "      <th>survived</th>\n",
       "      <th>pclass</th>\n",
       "      <th>age</th>\n",
       "      <th>sibsp</th>\n",
       "      <th>parch</th>\n",
       "      <th>fare</th>\n",
       "    </tr>\n",
       "  </thead>\n",
       "  <tbody>\n",
       "    <tr>\n",
       "      <th>passengerid</th>\n",
       "      <td>1.000000</td>\n",
       "      <td>-0.005028</td>\n",
       "      <td>-0.035330</td>\n",
       "      <td>0.031431</td>\n",
       "      <td>-0.057686</td>\n",
       "      <td>-0.001657</td>\n",
       "      <td>0.012713</td>\n",
       "    </tr>\n",
       "    <tr>\n",
       "      <th>survived</th>\n",
       "      <td>-0.005028</td>\n",
       "      <td>1.000000</td>\n",
       "      <td>-0.335549</td>\n",
       "      <td>-0.069821</td>\n",
       "      <td>-0.034040</td>\n",
       "      <td>0.083151</td>\n",
       "      <td>0.255447</td>\n",
       "    </tr>\n",
       "    <tr>\n",
       "      <th>pclass</th>\n",
       "      <td>-0.035330</td>\n",
       "      <td>-0.335549</td>\n",
       "      <td>1.000000</td>\n",
       "      <td>-0.336612</td>\n",
       "      <td>0.081656</td>\n",
       "      <td>0.016824</td>\n",
       "      <td>-0.549232</td>\n",
       "    </tr>\n",
       "    <tr>\n",
       "      <th>age</th>\n",
       "      <td>0.031431</td>\n",
       "      <td>-0.069821</td>\n",
       "      <td>-0.336612</td>\n",
       "      <td>1.000000</td>\n",
       "      <td>-0.232312</td>\n",
       "      <td>-0.171749</td>\n",
       "      <td>0.094056</td>\n",
       "    </tr>\n",
       "    <tr>\n",
       "      <th>sibsp</th>\n",
       "      <td>-0.057686</td>\n",
       "      <td>-0.034040</td>\n",
       "      <td>0.081656</td>\n",
       "      <td>-0.232312</td>\n",
       "      <td>1.000000</td>\n",
       "      <td>0.414542</td>\n",
       "      <td>0.160753</td>\n",
       "    </tr>\n",
       "    <tr>\n",
       "      <th>parch</th>\n",
       "      <td>-0.001657</td>\n",
       "      <td>0.083151</td>\n",
       "      <td>0.016824</td>\n",
       "      <td>-0.171749</td>\n",
       "      <td>0.414542</td>\n",
       "      <td>1.000000</td>\n",
       "      <td>0.217571</td>\n",
       "    </tr>\n",
       "    <tr>\n",
       "      <th>fare</th>\n",
       "      <td>0.012713</td>\n",
       "      <td>0.255447</td>\n",
       "      <td>-0.549232</td>\n",
       "      <td>0.094056</td>\n",
       "      <td>0.160753</td>\n",
       "      <td>0.217571</td>\n",
       "      <td>1.000000</td>\n",
       "    </tr>\n",
       "  </tbody>\n",
       "</table>\n",
       "</div>"
      ],
      "text/plain": [
       "             passengerid  survived    pclass       age     sibsp     parch  \\\n",
       "passengerid     1.000000 -0.005028 -0.035330  0.031431 -0.057686 -0.001657   \n",
       "survived       -0.005028  1.000000 -0.335549 -0.069821 -0.034040  0.083151   \n",
       "pclass         -0.035330 -0.335549  1.000000 -0.336612  0.081656  0.016824   \n",
       "age             0.031431 -0.069821 -0.336612  1.000000 -0.232312 -0.171749   \n",
       "sibsp          -0.057686 -0.034040  0.081656 -0.232312  1.000000  0.414542   \n",
       "parch          -0.001657  0.083151  0.016824 -0.171749  0.414542  1.000000   \n",
       "fare            0.012713  0.255447 -0.549232  0.094056  0.160753  0.217571   \n",
       "\n",
       "                 fare  \n",
       "passengerid  0.012713  \n",
       "survived     0.255447  \n",
       "pclass      -0.549232  \n",
       "age          0.094056  \n",
       "sibsp        0.160753  \n",
       "parch        0.217571  \n",
       "fare         1.000000  "
      ]
     },
     "execution_count": 19,
     "metadata": {},
     "output_type": "execute_result"
    }
   ],
   "source": [
    "train.corr()"
   ]
  },
  {
   "cell_type": "markdown",
   "metadata": {
    "id": "eQDpx1GNII64"
   },
   "source": [
    "Из матрицы корреляции на текущий момент видно, что наибольшая зависимость целевого признака есть от признаков pclass и fare. \n",
    "При этом в анализе пока не участвуют столбцы с полом и портом посадки. И если порт посадки вряд ли влияет, то вот пол - вполне, потому что женщины имели приоритет перед мужчинами во время эвакуации. Проверим это дальше с помощью гистограмм. Исключим из анализа признак passengerid, потому что он, очевидно, не мог повлиять не выживаемость. "
   ]
  },
  {
   "cell_type": "code",
   "execution_count": 20,
   "metadata": {
    "colab": {
     "base_uri": "https://localhost:8080/"
    },
    "id": "7kf0Hy_XI9E-",
    "outputId": "948a1e13-cba8-4fb7-b71d-d7e01a207cae"
   },
   "outputs": [
    {
     "data": {
      "text/plain": [
       "Index(['pclass', 'sex', 'age', 'sibsp', 'parch', 'fare', 'embarked'], dtype='object')"
      ]
     },
     "execution_count": 20,
     "metadata": {},
     "output_type": "execute_result"
    }
   ],
   "source": [
    "columns_list = train.columns\n",
    "columns_list = columns_list[2:]\n",
    "columns_list"
   ]
  },
  {
   "cell_type": "code",
   "execution_count": 21,
   "metadata": {
    "colab": {
     "base_uri": "https://localhost:8080/",
     "height": 156
    },
    "id": "7YNxTcGqI9HC",
    "outputId": "77a70825-feee-4905-9727-969513e8f8d2"
   },
   "outputs": [
    {
     "data": {
      "image/png": "[encoded data removed]",
      "text/plain": [
       "<Figure size 792x504 with 1 Axes>"
      ]
     },
     "metadata": {
      "needs_background": "light"
     },
     "output_type": "display_data"
    },
    {
     "data": {
      "image/png": "[encoded data removed]",
      "text/plain": [
       "<Figure size 792x504 with 1 Axes>"
      ]
     },
     "metadata": {
      "needs_background": "light"
     },
     "output_type": "display_data"
    },
    {
     "data": {
      "image/png": "[encoded data removed]",
      "text/plain": [
       "<Figure size 792x504 with 1 Axes>"
      ]
     },
     "metadata": {
      "needs_background": "light"
     },
     "output_type": "display_data"
    },
    {
     "data": {
      "image/png": "[encoded data removed]",
      "text/plain": [
       "<Figure size 792x504 with 1 Axes>"
      ]
     },
     "metadata": {
      "needs_background": "light"
     },
     "output_type": "display_data"
    },
    {
     "data": {
      "image/png": "[encoded data removed]",
      "text/plain": [
       "<Figure size 792x504 with 1 Axes>"
      ]
     },
     "metadata": {
      "needs_background": "light"
     },
     "output_type": "display_data"
    },
    {
     "data": {
      "image/png": "[encoded data removed]",
      "text/plain": [
       "<Figure size 792x504 with 1 Axes>"
      ]
     },
     "metadata": {
      "needs_background": "light"
     },
     "output_type": "display_data"
    },
    {
     "data": {
      "image/png": "[encoded data removed]",
      "text/plain": [
       "<Figure size 792x504 with 1 Axes>"
      ]
     },
     "metadata": {
      "needs_background": "light"
     },
     "output_type": "display_data"
    }
   ],
   "source": [
    "for column in columns_list:\n",
    "  sns.barplot(x=train[column], y=train['survived'], ci=None)\\\n",
    "    .set(title='Зависмость выживаемости от {}'.format(column), ylabel='Выживаемость')\n",
    "  plt.show()"
   ]
  },
  {
   "cell_type": "markdown",
   "metadata": {
    "id": "iK6_IUlPM06-"
   },
   "source": [
    "Удивительно, но признак, насчет которого мы больше всего сомневались, embarked, имеет определенное влияние на целевой признак. По какой-то причине пассажиры, порт посадки которых был С, имели больше шансов на выживание, чем пассажиры с другим портом посадки. Мы никак не можем это прокомментировать, зато можем принять как факт и не удалять этот признак из выборки. \n",
    "\n",
    "Подтвердилось наше предположение, что значительное влияние на факт выживания оказывает пол и возраст пассажира. На графиках четко видно, что женщины выживали в более, чем 70% случаев, в то время как мужчины только в 20%. Возраст тоже влиял достаточно очевидно – в основном спасались дети и немного старики. \n",
    "\n",
    "Значительное влияние на выживаемость также оказывал класс билета. Чем выше класс, тем больше шансов выжить.\n"
   ]
  },
  {
   "cell_type": "markdown",
   "metadata": {
    "id": "PxVzOS-HeX_J"
   },
   "source": [
    "Также из анализа выше можно сделать вывод, что у нас очень слабо выражены линейные зависимости. Соответственно, можно предположить, что линейные модели (например, логистическая регрессия) будут работать хуже, чем деревянные и тд. "
   ]
  },
  {
   "cell_type": "markdown",
   "metadata": {
    "id": "cga9PjXifjsG"
   },
   "source": [
    "С зависимостями и корреляциями мы разобрались, теперь перйдем к кодированию признаков. Нам необходимо закодировать признаки sex и embarked. Для этого мы используем метод get_dummies. Мы не используем One hot encoding, потому что у нас нет необходимости отдельно обучать и применять метод. Данных и в тренировочном, и в тестовом датасете содержат одинаковые категории, которые не изменятся впоследствии, поэтому get_dummies нас полностью устраивает. "
   ]
  },
  {
   "cell_type": "code",
   "execution_count": 22,
   "metadata": {
    "id": "eVGnbBdak58U"
   },
   "outputs": [],
   "source": [
    "train_dummy = pd.get_dummies(train, prefix_sep='_', columns=['embarked', 'sex'], dtype=int)\n",
    "test_dummy = pd.get_dummies(test, prefix_sep='_', columns=['embarked', 'sex'], dtype=int)"
   ]
  },
  {
   "cell_type": "code",
   "execution_count": 23,
   "metadata": {
    "colab": {
     "base_uri": "https://localhost:8080/"
    },
    "id": "ayKrpJDblNfA",
    "outputId": "251c37d3-8b7d-4787-f0c4-ad398e73942f"
   },
   "outputs": [
    {
     "name": "stdout",
     "output_type": "stream",
     "text": [
      "<class 'pandas.core.frame.DataFrame'>\n",
      "RangeIndex: 889 entries, 0 to 888\n",
      "Data columns (total 12 columns):\n",
      " #   Column       Non-Null Count  Dtype\n",
      "---  ------       --------------  -----\n",
      " 0   passengerid  889 non-null    int64\n",
      " 1   survived     889 non-null    int64\n",
      " 2   pclass       889 non-null    int64\n",
      " 3   age          889 non-null    int64\n",
      " 4   sibsp        889 non-null    int64\n",
      " 5   parch        889 non-null    int64\n",
      " 6   fare         889 non-null    int64\n",
      " 7   embarked_C   889 non-null    int64\n",
      " 8   embarked_Q   889 non-null    int64\n",
      " 9   embarked_S   889 non-null    int64\n",
      " 10  sex_female   889 non-null    int64\n",
      " 11  sex_male     889 non-null    int64\n",
      "dtypes: int64(12)\n",
      "memory usage: 83.5 KB\n"
     ]
    }
   ],
   "source": [
    "train_dummy.info()"
   ]
  },
  {
   "cell_type": "markdown",
   "metadata": {
    "id": "voPScDakyjXz"
   },
   "source": [
    "Нормирование признаков в данном случае нам не нужно, потому что у нас крайне мало линейных зависимостей. Мы не будем использовать линейные модели. А для деревянных моделей не требуется нормирование. \n",
    "Балансировку классов мы будем проводить после первичного теста моделей, чтобы посмотреть, есть ли положительное влияние на результат. \n",
    "На этом момент можем смело переходить к подготовке данных для моделей. "
   ]
  },
  {
   "cell_type": "markdown",
   "metadata": {
    "id": "PRQCT4ftCxhU"
   },
   "source": [
    "## <a id='6'>Обучение моделей</a>"
   ]
  },
  {
   "cell_type": "markdown",
   "metadata": {},
   "source": [
    "- [Перейти в начало проекта](#1)\n",
    "- [Перейти к предыдущему блоку](#5)\n",
    "- [Перейти к следующему блоку](#7)"
   ]
  },
  {
   "cell_type": "markdown",
   "metadata": {
    "id": "ch_Qq5MyzRPR"
   },
   "source": [
    "В этом разделе нам необходимо: \n",
    "- Удалить признак passengerid (сохранить его в отдельный series)\n",
    "- Разделить данные на features и target\n",
    "- Разделить данные на тренировочную и валидационную выборки \n",
    "- Импортировать необходимые модели и протестировать их \n",
    "- Покрутить различные параметры моделей для получения наилучшего результата "
   ]
  },
  {
   "cell_type": "markdown",
   "metadata": {
    "id": "HeUgVePh5Hxk"
   },
   "source": [
    "Удалим признак passengerid в тренировочном датасете полностью, а в тестовом сохраним его в отдельный series, потому что он нам еще пригодится. "
   ]
  },
  {
   "cell_type": "code",
   "execution_count": 24,
   "metadata": {
    "colab": {
     "base_uri": "https://localhost:8080/",
     "height": 419
    },
    "id": "4pLPSJYF05wA",
    "outputId": "9bc3548a-c2b5-4ba7-977b-c0abce27e7e3"
   },
   "outputs": [
    {
     "data": {
      "text/html": [
       "<div>\n",
       "<style scoped>\n",
       "    .dataframe tbody tr th:only-of-type {\n",
       "        vertical-align: middle;\n",
       "    }\n",
       "\n",
       "    .dataframe tbody tr th {\n",
       "        vertical-align: top;\n",
       "    }\n",
       "\n",
       "    .dataframe thead th {\n",
       "        text-align: right;\n",
       "    }\n",
       "</style>\n",
       "<table border=\"1\" class=\"dataframe\">\n",
       "  <thead>\n",
       "    <tr style=\"text-align: right;\">\n",
       "      <th></th>\n",
       "      <th>survived</th>\n",
       "      <th>pclass</th>\n",
       "      <th>age</th>\n",
       "      <th>sibsp</th>\n",
       "      <th>parch</th>\n",
       "      <th>fare</th>\n",
       "      <th>embarked_C</th>\n",
       "      <th>embarked_Q</th>\n",
       "      <th>embarked_S</th>\n",
       "      <th>sex_female</th>\n",
       "      <th>sex_male</th>\n",
       "    </tr>\n",
       "  </thead>\n",
       "  <tbody>\n",
       "    <tr>\n",
       "      <th>0</th>\n",
       "      <td>0</td>\n",
       "      <td>3</td>\n",
       "      <td>22</td>\n",
       "      <td>1</td>\n",
       "      <td>0</td>\n",
       "      <td>7</td>\n",
       "      <td>0</td>\n",
       "      <td>0</td>\n",
       "      <td>1</td>\n",
       "      <td>0</td>\n",
       "      <td>1</td>\n",
       "    </tr>\n",
       "    <tr>\n",
       "      <th>1</th>\n",
       "      <td>1</td>\n",
       "      <td>1</td>\n",
       "      <td>38</td>\n",
       "      <td>1</td>\n",
       "      <td>0</td>\n",
       "      <td>71</td>\n",
       "      <td>1</td>\n",
       "      <td>0</td>\n",
       "      <td>0</td>\n",
       "      <td>1</td>\n",
       "      <td>0</td>\n",
       "    </tr>\n",
       "    <tr>\n",
       "      <th>2</th>\n",
       "      <td>1</td>\n",
       "      <td>3</td>\n",
       "      <td>26</td>\n",
       "      <td>0</td>\n",
       "      <td>0</td>\n",
       "      <td>7</td>\n",
       "      <td>0</td>\n",
       "      <td>0</td>\n",
       "      <td>1</td>\n",
       "      <td>1</td>\n",
       "      <td>0</td>\n",
       "    </tr>\n",
       "    <tr>\n",
       "      <th>3</th>\n",
       "      <td>1</td>\n",
       "      <td>1</td>\n",
       "      <td>35</td>\n",
       "      <td>1</td>\n",
       "      <td>0</td>\n",
       "      <td>53</td>\n",
       "      <td>0</td>\n",
       "      <td>0</td>\n",
       "      <td>1</td>\n",
       "      <td>1</td>\n",
       "      <td>0</td>\n",
       "    </tr>\n",
       "    <tr>\n",
       "      <th>4</th>\n",
       "      <td>0</td>\n",
       "      <td>3</td>\n",
       "      <td>35</td>\n",
       "      <td>0</td>\n",
       "      <td>0</td>\n",
       "      <td>8</td>\n",
       "      <td>0</td>\n",
       "      <td>0</td>\n",
       "      <td>1</td>\n",
       "      <td>0</td>\n",
       "      <td>1</td>\n",
       "    </tr>\n",
       "    <tr>\n",
       "      <th>...</th>\n",
       "      <td>...</td>\n",
       "      <td>...</td>\n",
       "      <td>...</td>\n",
       "      <td>...</td>\n",
       "      <td>...</td>\n",
       "      <td>...</td>\n",
       "      <td>...</td>\n",
       "      <td>...</td>\n",
       "      <td>...</td>\n",
       "      <td>...</td>\n",
       "      <td>...</td>\n",
       "    </tr>\n",
       "    <tr>\n",
       "      <th>884</th>\n",
       "      <td>0</td>\n",
       "      <td>2</td>\n",
       "      <td>27</td>\n",
       "      <td>0</td>\n",
       "      <td>0</td>\n",
       "      <td>13</td>\n",
       "      <td>0</td>\n",
       "      <td>0</td>\n",
       "      <td>1</td>\n",
       "      <td>0</td>\n",
       "      <td>1</td>\n",
       "    </tr>\n",
       "    <tr>\n",
       "      <th>885</th>\n",
       "      <td>1</td>\n",
       "      <td>1</td>\n",
       "      <td>19</td>\n",
       "      <td>0</td>\n",
       "      <td>0</td>\n",
       "      <td>30</td>\n",
       "      <td>0</td>\n",
       "      <td>0</td>\n",
       "      <td>1</td>\n",
       "      <td>1</td>\n",
       "      <td>0</td>\n",
       "    </tr>\n",
       "    <tr>\n",
       "      <th>886</th>\n",
       "      <td>0</td>\n",
       "      <td>3</td>\n",
       "      <td>28</td>\n",
       "      <td>1</td>\n",
       "      <td>2</td>\n",
       "      <td>23</td>\n",
       "      <td>0</td>\n",
       "      <td>0</td>\n",
       "      <td>1</td>\n",
       "      <td>1</td>\n",
       "      <td>0</td>\n",
       "    </tr>\n",
       "    <tr>\n",
       "      <th>887</th>\n",
       "      <td>1</td>\n",
       "      <td>1</td>\n",
       "      <td>26</td>\n",
       "      <td>0</td>\n",
       "      <td>0</td>\n",
       "      <td>30</td>\n",
       "      <td>1</td>\n",
       "      <td>0</td>\n",
       "      <td>0</td>\n",
       "      <td>0</td>\n",
       "      <td>1</td>\n",
       "    </tr>\n",
       "    <tr>\n",
       "      <th>888</th>\n",
       "      <td>0</td>\n",
       "      <td>3</td>\n",
       "      <td>32</td>\n",
       "      <td>0</td>\n",
       "      <td>0</td>\n",
       "      <td>7</td>\n",
       "      <td>0</td>\n",
       "      <td>1</td>\n",
       "      <td>0</td>\n",
       "      <td>0</td>\n",
       "      <td>1</td>\n",
       "    </tr>\n",
       "  </tbody>\n",
       "</table>\n",
       "<p>889 rows × 11 columns</p>\n",
       "</div>"
      ],
      "text/plain": [
       "     survived  pclass  age  sibsp  parch  fare  embarked_C  embarked_Q  \\\n",
       "0           0       3   22      1      0     7           0           0   \n",
       "1           1       1   38      1      0    71           1           0   \n",
       "2           1       3   26      0      0     7           0           0   \n",
       "3           1       1   35      1      0    53           0           0   \n",
       "4           0       3   35      0      0     8           0           0   \n",
       "..        ...     ...  ...    ...    ...   ...         ...         ...   \n",
       "884         0       2   27      0      0    13           0           0   \n",
       "885         1       1   19      0      0    30           0           0   \n",
       "886         0       3   28      1      2    23           0           0   \n",
       "887         1       1   26      0      0    30           1           0   \n",
       "888         0       3   32      0      0     7           0           1   \n",
       "\n",
       "     embarked_S  sex_female  sex_male  \n",
       "0             1           0         1  \n",
       "1             0           1         0  \n",
       "2             1           1         0  \n",
       "3             1           1         0  \n",
       "4             1           0         1  \n",
       "..          ...         ...       ...  \n",
       "884           1           0         1  \n",
       "885           1           1         0  \n",
       "886           1           1         0  \n",
       "887           0           0         1  \n",
       "888           0           0         1  \n",
       "\n",
       "[889 rows x 11 columns]"
      ]
     },
     "execution_count": 24,
     "metadata": {},
     "output_type": "execute_result"
    }
   ],
   "source": [
    "train_dummy = train_dummy.drop(['passengerid'], axis=1)\n",
    "train_dummy"
   ]
  },
  {
   "cell_type": "code",
   "execution_count": 25,
   "metadata": {
    "id": "Lh4DeFqW5jPN"
   },
   "outputs": [],
   "source": [
    "passengerid_test = test_dummy['passengerid']\n",
    "test_dummy = test_dummy.drop(['passengerid'], axis=1)"
   ]
  },
  {
   "cell_type": "code",
   "execution_count": 26,
   "metadata": {
    "colab": {
     "base_uri": "https://localhost:8080/"
    },
    "id": "pb9SQEzi5xPJ",
    "outputId": "9bfde6b5-6492-4ea8-d0a6-f87ca93d0be1"
   },
   "outputs": [
    {
     "data": {
      "text/plain": [
       "0       892\n",
       "1       893\n",
       "2       894\n",
       "3       895\n",
       "4       896\n",
       "       ... \n",
       "413    1305\n",
       "414    1306\n",
       "415    1307\n",
       "416    1308\n",
       "417    1309\n",
       "Name: passengerid, Length: 418, dtype: int64"
      ]
     },
     "execution_count": 26,
     "metadata": {},
     "output_type": "execute_result"
    }
   ],
   "source": [
    "passengerid_test"
   ]
  },
  {
   "cell_type": "markdown",
   "metadata": {
    "id": "Hoqy4Q766AZ-"
   },
   "source": [
    "Разделим данные тренировочной выборки на features (X) и target (y)."
   ]
  },
  {
   "cell_type": "code",
   "execution_count": 27,
   "metadata": {
    "id": "NPN8UKx252Ys"
   },
   "outputs": [],
   "source": [
    "X_train = train_dummy.drop(['survived'], axis=1)\n",
    "y_train = train_dummy['survived']\n",
    "X_test = test_dummy"
   ]
  },
  {
   "cell_type": "markdown",
   "metadata": {
    "id": "Iepgm5DI8Rff"
   },
   "source": [
    "Вместо деления на тренировочную и валидационную выборку мы будем пользоваться кросс-валидацией от GridSearchCV. Более того, это поможет в подборе параметров."
   ]
  },
  {
   "cell_type": "markdown",
   "metadata": {
    "id": "O_FKd7UX9MhA"
   },
   "source": [
    "Начнем со случайного леса."
   ]
  },
  {
   "cell_type": "code",
   "execution_count": 28,
   "metadata": {
    "id": "zxgj0jU1JBQr"
   },
   "outputs": [],
   "source": [
    "param_grid = {'max_depth': range(2, 16, 1), 'n_estimators': range(10, 100, 10)}\n",
    "gs = GridSearchCV(RandomForestClassifier(random_state=12, class_weight='balanced'), param_grid=param_grid, return_train_score=True, n_jobs=4, scoring='accuracy')"
   ]
  },
  {
   "cell_type": "code",
   "execution_count": 29,
   "metadata": {
    "colab": {
     "base_uri": "https://localhost:8080/"
    },
    "id": "O_LUOVU4KOXa",
    "outputId": "4207477a-cbdb-49bf-dfc2-4b17a0865c25"
   },
   "outputs": [
    {
     "name": "stdout",
     "output_type": "stream",
     "text": [
      "CPU times: user 516 ms, sys: 96.9 ms, total: 612 ms\n",
      "Wall time: 10.4 s\n"
     ]
    },
    {
     "data": {
      "text/plain": [
       "GridSearchCV(estimator=RandomForestClassifier(class_weight='balanced',\n",
       "                                              random_state=12),\n",
       "             n_jobs=4,\n",
       "             param_grid={'max_depth': range(2, 16),\n",
       "                         'n_estimators': range(10, 100, 10)},\n",
       "             return_train_score=True, scoring='accuracy')"
      ]
     },
     "execution_count": 29,
     "metadata": {},
     "output_type": "execute_result"
    }
   ],
   "source": [
    "%%time\n",
    "gs.fit(X_train, y_train)"
   ]
  },
  {
   "cell_type": "code",
   "execution_count": 30,
   "metadata": {
    "colab": {
     "base_uri": "https://localhost:8080/"
    },
    "id": "ETUfVTFlKjEy",
    "outputId": "d1e4feb8-3971-4c65-a04b-0919074c2b63"
   },
   "outputs": [
    {
     "data": {
      "text/plain": [
       "{'max_depth': 12, 'n_estimators': 90}"
      ]
     },
     "execution_count": 30,
     "metadata": {},
     "output_type": "execute_result"
    }
   ],
   "source": [
    "gs.best_params_"
   ]
  },
  {
   "cell_type": "code",
   "execution_count": 31,
   "metadata": {
    "colab": {
     "base_uri": "https://localhost:8080/"
    },
    "id": "R8zysA1mgPnS",
    "outputId": "e7deaabd-5b68-4a4c-c1a1-d970c0d2492d"
   },
   "outputs": [
    {
     "data": {
      "text/plain": [
       "0.8279502317018981"
      ]
     },
     "execution_count": 31,
     "metadata": {},
     "output_type": "execute_result"
    }
   ],
   "source": [
    "gs.best_score_ #на тестовых данных на кеггле эта модель дала результат 0.75"
   ]
  },
  {
   "cell_type": "markdown",
   "metadata": {
    "id": "5TAaOS1xc3Wd"
   },
   "source": [
    "0.83 - вполне неплохой результат, но можно и лучше. Попробуем CatBoost."
   ]
  },
  {
   "cell_type": "code",
   "execution_count": 32,
   "metadata": {
    "id": "h_jkCdF0dDmJ"
   },
   "outputs": [],
   "source": [
    "param_grid = {'depth': range(2, 16, 1), 'iterations': range(10, 130, 10)}\n",
    "gs = GridSearchCV(CatBoostClassifier(random_state=12), param_grid=param_grid, return_train_score=True, n_jobs=4, scoring='accuracy')"
   ]
  },
  {
   "cell_type": "code",
   "execution_count": 33,
   "metadata": {
    "colab": {
     "background_save": true
    },
    "id": "3rk55neydDog",
    "outputId": "deb728dd-66ff-4bdc-9fb5-ea4544a3c06e",
    "scrolled": true
   },
   "outputs": [
    {
     "name": "stdout",
     "output_type": "stream",
     "text": [
      "Learning rate set to 0.08914\n",
      "0:\tlearn: 0.6589262\ttotal: 57.5ms\tremaining: 5.12s\n",
      "1:\tlearn: 0.6306657\ttotal: 58.2ms\tremaining: 2.56s\n",
      "2:\tlearn: 0.6101763\ttotal: 58.5ms\tremaining: 1.7s\n",
      "3:\tlearn: 0.5912668\ttotal: 58.9ms\tremaining: 1.27s\n",
      "4:\tlearn: 0.5699902\ttotal: 59.3ms\tremaining: 1.01s\n",
      "5:\tlearn: 0.5543684\ttotal: 59.7ms\tremaining: 835ms\n",
      "6:\tlearn: 0.5424165\ttotal: 60ms\tremaining: 712ms\n",
      "7:\tlearn: 0.5281721\ttotal: 60.4ms\tremaining: 619ms\n",
      "8:\tlearn: 0.5150550\ttotal: 60.8ms\tremaining: 547ms\n",
      "9:\tlearn: 0.5039907\ttotal: 61.2ms\tremaining: 489ms\n",
      "10:\tlearn: 0.4955522\ttotal: 61.6ms\tremaining: 443ms\n",
      "11:\tlearn: 0.4873625\ttotal: 62ms\tremaining: 403ms\n",
      "12:\tlearn: 0.4800678\ttotal: 62.3ms\tremaining: 369ms\n",
      "13:\tlearn: 0.4736354\ttotal: 62.8ms\tremaining: 341ms\n",
      "14:\tlearn: 0.4667396\ttotal: 63.1ms\tremaining: 316ms\n",
      "15:\tlearn: 0.4621575\ttotal: 63.6ms\tremaining: 294ms\n",
      "16:\tlearn: 0.4562351\ttotal: 63.9ms\tremaining: 274ms\n",
      "17:\tlearn: 0.4517964\ttotal: 64.3ms\tremaining: 257ms\n",
      "18:\tlearn: 0.4480694\ttotal: 64.7ms\tremaining: 242ms\n",
      "19:\tlearn: 0.4435432\ttotal: 65.2ms\tremaining: 228ms\n",
      "20:\tlearn: 0.4405211\ttotal: 65.6ms\tremaining: 216ms\n",
      "21:\tlearn: 0.4371850\ttotal: 66ms\tremaining: 204ms\n",
      "22:\tlearn: 0.4335495\ttotal: 66.5ms\tremaining: 194ms\n",
      "23:\tlearn: 0.4322265\ttotal: 66.9ms\tremaining: 184ms\n",
      "24:\tlearn: 0.4290787\ttotal: 67.2ms\tremaining: 175ms\n",
      "25:\tlearn: 0.4266036\ttotal: 67.5ms\tremaining: 166ms\n",
      "26:\tlearn: 0.4252680\ttotal: 67.9ms\tremaining: 158ms\n",
      "27:\tlearn: 0.4233888\ttotal: 68.4ms\tremaining: 152ms\n",
      "28:\tlearn: 0.4219688\ttotal: 68.7ms\tremaining: 145ms\n",
      "29:\tlearn: 0.4209853\ttotal: 69.2ms\tremaining: 138ms\n",
      "30:\tlearn: 0.4201486\ttotal: 69.5ms\tremaining: 132ms\n",
      "31:\tlearn: 0.4180467\ttotal: 69.9ms\tremaining: 127ms\n",
      "32:\tlearn: 0.4163083\ttotal: 70.2ms\tremaining: 121ms\n",
      "33:\tlearn: 0.4154353\ttotal: 70.6ms\tremaining: 116ms\n",
      "34:\tlearn: 0.4135013\ttotal: 71ms\tremaining: 112ms\n",
      "35:\tlearn: 0.4115554\ttotal: 71.4ms\tremaining: 107ms\n",
      "36:\tlearn: 0.4107654\ttotal: 71.7ms\tremaining: 103ms\n",
      "37:\tlearn: 0.4095004\ttotal: 72ms\tremaining: 98.6ms\n",
      "38:\tlearn: 0.4083387\ttotal: 72.4ms\tremaining: 94.7ms\n",
      "39:\tlearn: 0.4069802\ttotal: 72.8ms\tremaining: 91ms\n",
      "40:\tlearn: 0.4060412\ttotal: 73.1ms\tremaining: 87.4ms\n",
      "41:\tlearn: 0.4048556\ttotal: 73.4ms\tremaining: 83.9ms\n",
      "42:\tlearn: 0.4042269\ttotal: 73.8ms\tremaining: 80.6ms\n",
      "43:\tlearn: 0.4035449\ttotal: 74.2ms\tremaining: 77.6ms\n",
      "44:\tlearn: 0.4030238\ttotal: 74.5ms\tremaining: 74.5ms\n",
      "45:\tlearn: 0.4023565\ttotal: 74.9ms\tremaining: 71.7ms\n",
      "46:\tlearn: 0.4014166\ttotal: 75.4ms\tremaining: 69ms\n",
      "47:\tlearn: 0.4007514\ttotal: 75.7ms\tremaining: 66.3ms\n",
      "48:\tlearn: 0.4002911\ttotal: 76ms\tremaining: 63.6ms\n",
      "49:\tlearn: 0.3992606\ttotal: 76.4ms\tremaining: 61.1ms\n",
      "50:\tlearn: 0.3984468\ttotal: 76.7ms\tremaining: 58.6ms\n",
      "51:\tlearn: 0.3977379\ttotal: 77.1ms\tremaining: 56.3ms\n",
      "52:\tlearn: 0.3973886\ttotal: 77.5ms\tremaining: 54.1ms\n",
      "53:\tlearn: 0.3969976\ttotal: 77.8ms\tremaining: 51.8ms\n",
      "54:\tlearn: 0.3967411\ttotal: 78.2ms\tremaining: 49.8ms\n",
      "55:\tlearn: 0.3962361\ttotal: 78.5ms\tremaining: 47.6ms\n",
      "56:\tlearn: 0.3955043\ttotal: 78.8ms\tremaining: 45.6ms\n",
      "57:\tlearn: 0.3953718\ttotal: 79.1ms\tremaining: 43.7ms\n",
      "58:\tlearn: 0.3948930\ttotal: 79.6ms\tremaining: 41.8ms\n",
      "59:\tlearn: 0.3942410\ttotal: 80ms\tremaining: 40ms\n",
      "60:\tlearn: 0.3941113\ttotal: 80.3ms\tremaining: 38.2ms\n",
      "61:\tlearn: 0.3936773\ttotal: 80.6ms\tremaining: 36.4ms\n",
      "62:\tlearn: 0.3932727\ttotal: 81.2ms\tremaining: 34.8ms\n",
      "63:\tlearn: 0.3924413\ttotal: 81.5ms\tremaining: 33.1ms\n",
      "64:\tlearn: 0.3919079\ttotal: 81.9ms\tremaining: 31.5ms\n",
      "65:\tlearn: 0.3913494\ttotal: 82.4ms\tremaining: 29.9ms\n",
      "66:\tlearn: 0.3908703\ttotal: 82.7ms\tremaining: 28.4ms\n",
      "67:\tlearn: 0.3905475\ttotal: 83.2ms\tremaining: 26.9ms\n",
      "68:\tlearn: 0.3904951\ttotal: 83.4ms\tremaining: 25.4ms\n",
      "69:\tlearn: 0.3901063\ttotal: 83.9ms\tremaining: 24ms\n",
      "70:\tlearn: 0.3898658\ttotal: 84.3ms\tremaining: 22.6ms\n",
      "71:\tlearn: 0.3888513\ttotal: 84.6ms\tremaining: 21.1ms\n",
      "72:\tlearn: 0.3883797\ttotal: 84.8ms\tremaining: 19.8ms\n",
      "73:\tlearn: 0.3876259\ttotal: 85.2ms\tremaining: 18.4ms\n",
      "74:\tlearn: 0.3873440\ttotal: 85.4ms\tremaining: 17.1ms\n",
      "75:\tlearn: 0.3868459\ttotal: 85.7ms\tremaining: 15.8ms\n",
      "76:\tlearn: 0.3865837\ttotal: 86ms\tremaining: 14.5ms\n",
      "77:\tlearn: 0.3861571\ttotal: 86.3ms\tremaining: 13.3ms\n",
      "78:\tlearn: 0.3860634\ttotal: 86.7ms\tremaining: 12.1ms\n",
      "79:\tlearn: 0.3857802\ttotal: 87.2ms\tremaining: 10.9ms\n",
      "80:\tlearn: 0.3856349\ttotal: 87.6ms\tremaining: 9.73ms\n",
      "81:\tlearn: 0.3853283\ttotal: 88ms\tremaining: 8.59ms\n",
      "82:\tlearn: 0.3850002\ttotal: 88.4ms\tremaining: 7.45ms\n",
      "83:\tlearn: 0.3849021\ttotal: 88.6ms\tremaining: 6.33ms\n",
      "84:\tlearn: 0.3848839\ttotal: 88.8ms\tremaining: 5.23ms\n",
      "85:\tlearn: 0.3846323\ttotal: 89.1ms\tremaining: 4.15ms\n",
      "86:\tlearn: 0.3844391\ttotal: 89.7ms\tremaining: 3.09ms\n",
      "87:\tlearn: 0.3839161\ttotal: 90.1ms\tremaining: 2.05ms\n",
      "88:\tlearn: 0.3838546\ttotal: 90.6ms\tremaining: 1.02ms\n",
      "89:\tlearn: 0.3834226\ttotal: 90.9ms\tremaining: 0us\n",
      "CPU times: user 640 ms, sys: 107 ms, total: 747 ms\n",
      "Wall time: 1min 6s\n"
     ]
    },
    {
     "data": {
      "text/plain": [
       "GridSearchCV(estimator=<catboost.core.CatBoostClassifier object at 0x7f8f984eb8e0>,\n",
       "             n_jobs=4,\n",
       "             param_grid={'depth': range(2, 16),\n",
       "                         'iterations': range(10, 130, 10)},\n",
       "             return_train_score=True, scoring='accuracy')"
      ]
     },
     "execution_count": 33,
     "metadata": {},
     "output_type": "execute_result"
    }
   ],
   "source": [
    "%%time\n",
    "gs.fit(X_train, y_train)"
   ]
  },
  {
   "cell_type": "code",
   "execution_count": 34,
   "metadata": {
    "colab": {
     "background_save": true
    },
    "id": "NDuuOlBbdDqv",
    "outputId": "ec3e4689-1cd7-4fd3-af4e-110548a626cd"
   },
   "outputs": [
    {
     "data": {
      "text/plain": [
       "{'depth': 4, 'iterations': 90}"
      ]
     },
     "execution_count": 34,
     "metadata": {},
     "output_type": "execute_result"
    }
   ],
   "source": [
    "gs.best_params_"
   ]
  },
  {
   "cell_type": "code",
   "execution_count": 35,
   "metadata": {
    "colab": {
     "background_save": true
    },
    "id": "f6QQgOh1dDs0",
    "outputId": "5d29c31e-bb75-4613-9234-989dc018d753"
   },
   "outputs": [
    {
     "data": {
      "text/plain": [
       "0.8268139402018664"
      ]
     },
     "execution_count": 35,
     "metadata": {},
     "output_type": "execute_result"
    }
   ],
   "source": [
    "gs.best_score_ #на тестовых данных на кеггле эта модель дала 0.78"
   ]
  },
  {
   "cell_type": "markdown",
   "metadata": {
    "id": "YItiDSSsM2WK"
   },
   "source": [
    "Протестируем экстра-деревья. "
   ]
  },
  {
   "cell_type": "code",
   "execution_count": 36,
   "metadata": {
    "colab": {
     "background_save": true
    },
    "id": "Gsiz9mMpMyQM"
   },
   "outputs": [],
   "source": [
    "param_grid = {'max_depth': range(2, 16, 1), \n",
    "              'n_estimators': range(10, 100, 10)}\n",
    "gs = GridSearchCV(ExtraTreesClassifier(random_state=12), param_grid=param_grid, return_train_score=True, n_jobs=4, scoring='accuracy')"
   ]
  },
  {
   "cell_type": "code",
   "execution_count": 37,
   "metadata": {
    "colab": {
     "background_save": true
    },
    "id": "BnTD_hETMySo",
    "outputId": "1e97ec7a-d915-4618-b047-4545797bf58c"
   },
   "outputs": [
    {
     "name": "stdout",
     "output_type": "stream",
     "text": [
      "CPU times: user 467 ms, sys: 30.8 ms, total: 498 ms\n",
      "Wall time: 8.49 s\n"
     ]
    },
    {
     "data": {
      "text/plain": [
       "GridSearchCV(estimator=ExtraTreesClassifier(random_state=12), n_jobs=4,\n",
       "             param_grid={'max_depth': range(2, 16),\n",
       "                         'n_estimators': range(10, 100, 10)},\n",
       "             return_train_score=True, scoring='accuracy')"
      ]
     },
     "execution_count": 37,
     "metadata": {},
     "output_type": "execute_result"
    }
   ],
   "source": [
    "%%time\n",
    "gs.fit(X_train, y_train)"
   ]
  },
  {
   "cell_type": "code",
   "execution_count": 38,
   "metadata": {
    "colab": {
     "background_save": true
    },
    "id": "LAVI4W1hNoUx",
    "outputId": "1e85308e-d823-442c-c5df-390bdb625469"
   },
   "outputs": [
    {
     "data": {
      "text/plain": [
       "0.8245477051990097"
      ]
     },
     "execution_count": 38,
     "metadata": {},
     "output_type": "execute_result"
    }
   ],
   "source": [
    "gs.best_score_ #на тестовых данных эта модель дала результат в 0.77"
   ]
  },
  {
   "cell_type": "code",
   "execution_count": 39,
   "metadata": {
    "colab": {
     "background_save": true
    },
    "id": "vl-WF8ucNoXS",
    "outputId": "aa09e131-df3c-49e5-b713-b04eea102151"
   },
   "outputs": [
    {
     "data": {
      "text/plain": [
       "{'max_depth': 8, 'n_estimators': 80}"
      ]
     },
     "execution_count": 39,
     "metadata": {},
     "output_type": "execute_result"
    }
   ],
   "source": [
    "gs.best_params_"
   ]
  },
  {
   "cell_type": "markdown",
   "metadata": {},
   "source": [
    "## <a id='7'>Итог</a>"
   ]
  },
  {
   "cell_type": "markdown",
   "metadata": {},
   "source": [
    "- [Перейти в начало проекта](#1)\n",
    "- [Перейти к предыдущему блоку](#6)"
   ]
  },
  {
   "cell_type": "markdown",
   "metadata": {
    "id": "8weglF1ePTLw"
   },
   "source": [
    "Лучше всех на тренировочных данных себя показала модель CatBoost. Ее мы и будем использовать для предсказания на тестовых данных. "
   ]
  },
  {
   "cell_type": "code",
   "execution_count": 40,
   "metadata": {
    "colab": {
     "background_save": true
    },
    "id": "kNICfUzeMyVP",
    "outputId": "b68f1013-1019-4966-c599-94cb0a88457f",
    "scrolled": true
   },
   "outputs": [
    {
     "name": "stdout",
     "output_type": "stream",
     "text": [
      "Learning rate set to 0.08914\n",
      "0:\tlearn: 0.6589262\ttotal: 500us\tremaining: 44.5ms\n",
      "1:\tlearn: 0.6306657\ttotal: 1.08ms\tremaining: 47.5ms\n",
      "2:\tlearn: 0.6101763\ttotal: 1.49ms\tremaining: 43.3ms\n",
      "3:\tlearn: 0.5912668\ttotal: 1.97ms\tremaining: 42.4ms\n",
      "4:\tlearn: 0.5699902\ttotal: 2.35ms\tremaining: 40ms\n",
      "5:\tlearn: 0.5543684\ttotal: 2.76ms\tremaining: 38.7ms\n",
      "6:\tlearn: 0.5424165\ttotal: 3.16ms\tremaining: 37.5ms\n",
      "7:\tlearn: 0.5281721\ttotal: 3.49ms\tremaining: 35.8ms\n",
      "8:\tlearn: 0.5150550\ttotal: 3.84ms\tremaining: 34.6ms\n",
      "9:\tlearn: 0.5039907\ttotal: 4.27ms\tremaining: 34.2ms\n",
      "10:\tlearn: 0.4955522\ttotal: 4.86ms\tremaining: 34.9ms\n",
      "11:\tlearn: 0.4873625\ttotal: 5.32ms\tremaining: 34.6ms\n",
      "12:\tlearn: 0.4800678\ttotal: 5.69ms\tremaining: 33.7ms\n",
      "13:\tlearn: 0.4736354\ttotal: 5.98ms\tremaining: 32.5ms\n",
      "14:\tlearn: 0.4667396\ttotal: 6.5ms\tremaining: 32.5ms\n",
      "15:\tlearn: 0.4621575\ttotal: 7.04ms\tremaining: 32.6ms\n",
      "16:\tlearn: 0.4562351\ttotal: 7.56ms\tremaining: 32.5ms\n",
      "17:\tlearn: 0.4517964\ttotal: 8.33ms\tremaining: 33.3ms\n",
      "18:\tlearn: 0.4480694\ttotal: 8.77ms\tremaining: 32.8ms\n",
      "19:\tlearn: 0.4435432\ttotal: 9.45ms\tremaining: 33.1ms\n",
      "20:\tlearn: 0.4405211\ttotal: 9.95ms\tremaining: 32.7ms\n",
      "21:\tlearn: 0.4371850\ttotal: 10.4ms\tremaining: 32.1ms\n",
      "22:\tlearn: 0.4335495\ttotal: 10.9ms\tremaining: 31.7ms\n",
      "23:\tlearn: 0.4322265\ttotal: 11.3ms\tremaining: 31.1ms\n",
      "24:\tlearn: 0.4290787\ttotal: 11.6ms\tremaining: 30.2ms\n",
      "25:\tlearn: 0.4266036\ttotal: 12ms\tremaining: 29.5ms\n",
      "26:\tlearn: 0.4252680\ttotal: 12.5ms\tremaining: 29.1ms\n",
      "27:\tlearn: 0.4233888\ttotal: 12.8ms\tremaining: 28.4ms\n",
      "28:\tlearn: 0.4219688\ttotal: 13.2ms\tremaining: 27.8ms\n",
      "29:\tlearn: 0.4209853\ttotal: 13.5ms\tremaining: 27ms\n",
      "30:\tlearn: 0.4201486\ttotal: 13.8ms\tremaining: 26.3ms\n",
      "31:\tlearn: 0.4180467\ttotal: 14.1ms\tremaining: 25.6ms\n",
      "32:\tlearn: 0.4163083\ttotal: 14.4ms\tremaining: 24.9ms\n",
      "33:\tlearn: 0.4154353\ttotal: 15ms\tremaining: 24.8ms\n",
      "34:\tlearn: 0.4135013\ttotal: 15.4ms\tremaining: 24.1ms\n",
      "35:\tlearn: 0.4115554\ttotal: 15.7ms\tremaining: 23.5ms\n",
      "36:\tlearn: 0.4107654\ttotal: 16.3ms\tremaining: 23.4ms\n",
      "37:\tlearn: 0.4095004\ttotal: 16.7ms\tremaining: 22.9ms\n",
      "38:\tlearn: 0.4083387\ttotal: 17.1ms\tremaining: 22.3ms\n",
      "39:\tlearn: 0.4069802\ttotal: 17.5ms\tremaining: 21.9ms\n",
      "40:\tlearn: 0.4060412\ttotal: 17.8ms\tremaining: 21.3ms\n",
      "41:\tlearn: 0.4048556\ttotal: 18.1ms\tremaining: 20.7ms\n",
      "42:\tlearn: 0.4042269\ttotal: 18.7ms\tremaining: 20.4ms\n",
      "43:\tlearn: 0.4035449\ttotal: 19.2ms\tremaining: 20.1ms\n",
      "44:\tlearn: 0.4030238\ttotal: 19.7ms\tremaining: 19.7ms\n",
      "45:\tlearn: 0.4023565\ttotal: 20.3ms\tremaining: 19.4ms\n",
      "46:\tlearn: 0.4014166\ttotal: 20.6ms\tremaining: 18.8ms\n",
      "47:\tlearn: 0.4007514\ttotal: 21ms\tremaining: 18.4ms\n",
      "48:\tlearn: 0.4002911\ttotal: 21.6ms\tremaining: 18.1ms\n",
      "49:\tlearn: 0.3992606\ttotal: 22.2ms\tremaining: 17.7ms\n",
      "50:\tlearn: 0.3984468\ttotal: 22.7ms\tremaining: 17.4ms\n",
      "51:\tlearn: 0.3977379\ttotal: 23.1ms\tremaining: 16.9ms\n",
      "52:\tlearn: 0.3973886\ttotal: 23.4ms\tremaining: 16.3ms\n",
      "53:\tlearn: 0.3969976\ttotal: 24ms\tremaining: 16ms\n",
      "54:\tlearn: 0.3967411\ttotal: 24.6ms\tremaining: 15.7ms\n",
      "55:\tlearn: 0.3962361\ttotal: 24.9ms\tremaining: 15.1ms\n",
      "56:\tlearn: 0.3955043\ttotal: 25.3ms\tremaining: 14.6ms\n",
      "57:\tlearn: 0.3953718\ttotal: 26.3ms\tremaining: 14.5ms\n",
      "58:\tlearn: 0.3948930\ttotal: 26.7ms\tremaining: 14ms\n",
      "59:\tlearn: 0.3942410\ttotal: 27.2ms\tremaining: 13.6ms\n",
      "60:\tlearn: 0.3941113\ttotal: 27.8ms\tremaining: 13.2ms\n",
      "61:\tlearn: 0.3936773\ttotal: 28.1ms\tremaining: 12.7ms\n",
      "62:\tlearn: 0.3932727\ttotal: 28.4ms\tremaining: 12.2ms\n",
      "63:\tlearn: 0.3924413\ttotal: 28.8ms\tremaining: 11.7ms\n",
      "64:\tlearn: 0.3919079\ttotal: 29.1ms\tremaining: 11.2ms\n",
      "65:\tlearn: 0.3913494\ttotal: 29.5ms\tremaining: 10.7ms\n",
      "66:\tlearn: 0.3908703\ttotal: 29.9ms\tremaining: 10.3ms\n",
      "67:\tlearn: 0.3905475\ttotal: 30.2ms\tremaining: 9.77ms\n",
      "68:\tlearn: 0.3904951\ttotal: 30.4ms\tremaining: 9.25ms\n",
      "69:\tlearn: 0.3901063\ttotal: 30.8ms\tremaining: 8.8ms\n",
      "70:\tlearn: 0.3898658\ttotal: 31.1ms\tremaining: 8.32ms\n",
      "71:\tlearn: 0.3888513\ttotal: 31.4ms\tremaining: 7.84ms\n",
      "72:\tlearn: 0.3883797\ttotal: 31.8ms\tremaining: 7.41ms\n",
      "73:\tlearn: 0.3876259\ttotal: 32.2ms\tremaining: 6.96ms\n",
      "74:\tlearn: 0.3873440\ttotal: 32.6ms\tremaining: 6.51ms\n",
      "75:\tlearn: 0.3868459\ttotal: 32.9ms\tremaining: 6.06ms\n",
      "76:\tlearn: 0.3865837\ttotal: 33.3ms\tremaining: 5.62ms\n",
      "77:\tlearn: 0.3861571\ttotal: 33.9ms\tremaining: 5.21ms\n",
      "78:\tlearn: 0.3860634\ttotal: 34.2ms\tremaining: 4.76ms\n",
      "79:\tlearn: 0.3857802\ttotal: 34.6ms\tremaining: 4.32ms\n",
      "80:\tlearn: 0.3856349\ttotal: 34.9ms\tremaining: 3.88ms\n",
      "81:\tlearn: 0.3853283\ttotal: 35.3ms\tremaining: 3.44ms\n",
      "82:\tlearn: 0.3850002\ttotal: 35.6ms\tremaining: 3ms\n",
      "83:\tlearn: 0.3849021\ttotal: 35.9ms\tremaining: 2.56ms\n",
      "84:\tlearn: 0.3848839\ttotal: 36.1ms\tremaining: 2.12ms\n",
      "85:\tlearn: 0.3846323\ttotal: 36.5ms\tremaining: 1.7ms\n",
      "86:\tlearn: 0.3844391\ttotal: 36.9ms\tremaining: 1.27ms\n",
      "87:\tlearn: 0.3839161\ttotal: 37.6ms\tremaining: 855us\n",
      "88:\tlearn: 0.3838546\ttotal: 38ms\tremaining: 426us\n",
      "89:\tlearn: 0.3834226\ttotal: 38.5ms\tremaining: 0us\n"
     ]
    }
   ],
   "source": [
    "model = CatBoostClassifier(random_state=12, depth=4, iterations=90)\n",
    "model.fit(X_train, y_train)\n",
    "predicted_test = model.predict(X_test)"
   ]
  },
  {
   "cell_type": "code",
   "execution_count": 41,
   "metadata": {
    "colab": {
     "background_save": true
    },
    "id": "8U2rN5W2mMh4"
   },
   "outputs": [],
   "source": [
    "predicted_test = pd.DataFrame(predicted_test)\n",
    "passengerid_test = pd.DataFrame(passengerid_test)"
   ]
  },
  {
   "cell_type": "code",
   "execution_count": 42,
   "metadata": {
    "colab": {
     "background_save": true
    },
    "id": "_dZ8tSvSmeZu"
   },
   "outputs": [],
   "source": [
    "test_result = passengerid_test.join(predicted_test, how='inner')"
   ]
  },
  {
   "cell_type": "code",
   "execution_count": 43,
   "metadata": {
    "colab": {
     "background_save": true
    },
    "id": "13RpZGCFniBG",
    "outputId": "a0704ff5-6ed1-4aab-b973-906c6781c280"
   },
   "outputs": [
    {
     "data": {
      "text/html": [
       "<div>\n",
       "<style scoped>\n",
       "    .dataframe tbody tr th:only-of-type {\n",
       "        vertical-align: middle;\n",
       "    }\n",
       "\n",
       "    .dataframe tbody tr th {\n",
       "        vertical-align: top;\n",
       "    }\n",
       "\n",
       "    .dataframe thead th {\n",
       "        text-align: right;\n",
       "    }\n",
       "</style>\n",
       "<table border=\"1\" class=\"dataframe\">\n",
       "  <thead>\n",
       "    <tr style=\"text-align: right;\">\n",
       "      <th></th>\n",
       "      <th>PassengerId</th>\n",
       "      <th>Survived</th>\n",
       "    </tr>\n",
       "  </thead>\n",
       "  <tbody>\n",
       "    <tr>\n",
       "      <th>0</th>\n",
       "      <td>892</td>\n",
       "      <td>0</td>\n",
       "    </tr>\n",
       "    <tr>\n",
       "      <th>1</th>\n",
       "      <td>893</td>\n",
       "      <td>0</td>\n",
       "    </tr>\n",
       "    <tr>\n",
       "      <th>2</th>\n",
       "      <td>894</td>\n",
       "      <td>0</td>\n",
       "    </tr>\n",
       "    <tr>\n",
       "      <th>3</th>\n",
       "      <td>895</td>\n",
       "      <td>0</td>\n",
       "    </tr>\n",
       "    <tr>\n",
       "      <th>4</th>\n",
       "      <td>896</td>\n",
       "      <td>0</td>\n",
       "    </tr>\n",
       "    <tr>\n",
       "      <th>...</th>\n",
       "      <td>...</td>\n",
       "      <td>...</td>\n",
       "    </tr>\n",
       "    <tr>\n",
       "      <th>413</th>\n",
       "      <td>1305</td>\n",
       "      <td>0</td>\n",
       "    </tr>\n",
       "    <tr>\n",
       "      <th>414</th>\n",
       "      <td>1306</td>\n",
       "      <td>1</td>\n",
       "    </tr>\n",
       "    <tr>\n",
       "      <th>415</th>\n",
       "      <td>1307</td>\n",
       "      <td>0</td>\n",
       "    </tr>\n",
       "    <tr>\n",
       "      <th>416</th>\n",
       "      <td>1308</td>\n",
       "      <td>0</td>\n",
       "    </tr>\n",
       "    <tr>\n",
       "      <th>417</th>\n",
       "      <td>1309</td>\n",
       "      <td>0</td>\n",
       "    </tr>\n",
       "  </tbody>\n",
       "</table>\n",
       "<p>418 rows × 2 columns</p>\n",
       "</div>"
      ],
      "text/plain": [
       "     PassengerId  Survived\n",
       "0            892         0\n",
       "1            893         0\n",
       "2            894         0\n",
       "3            895         0\n",
       "4            896         0\n",
       "..           ...       ...\n",
       "413         1305         0\n",
       "414         1306         1\n",
       "415         1307         0\n",
       "416         1308         0\n",
       "417         1309         0\n",
       "\n",
       "[418 rows x 2 columns]"
      ]
     },
     "execution_count": 43,
     "metadata": {},
     "output_type": "execute_result"
    }
   ],
   "source": [
    "test_result.columns = gender_sub.columns\n",
    "test_result"
   ]
  },
  {
   "cell_type": "code",
   "execution_count": 44,
   "metadata": {
    "colab": {
     "background_save": true
    },
    "id": "FAv8FTN5oxOd"
   },
   "outputs": [],
   "source": [
    "test_result.to_csv('test_result.csv', index=False)"
   ]
  },
  {
   "cell_type": "markdown",
   "metadata": {
    "colab": {
     "background_save": true
    },
    "id": "xXOcgssMHp_T"
   },
   "source": [
    "#### На тестовых данных на Kaggle эта модель показала результат 0.78 "
   ]
  },
  {
   "cell_type": "code",
   "execution_count": null,
   "metadata": {},
   "outputs": [],
   "source": []
  }
 ],
 "metadata": {
  "colab": {
   "collapsed_sections": [
    "JE4MaAvzCoq5",
    "ww5Kdg44Ct38",
    "dTMcGGVtFsN3"
   ],
   "name": "My \"Titanic_predict.ipynb\"",
   "provenance": []
  },
  "kernelspec": {
   "display_name": "Python 3",
   "language": "python",
   "name": "python3"
  },
  "language_info": {
   "codemirror_mode": {
    "name": "ipython",
    "version": 3
   },
   "file_extension": ".py",
   "mimetype": "text/x-python",
   "name": "python",
   "nbconvert_exporter": "python",
   "pygments_lexer": "ipython3",
   "version": "3.9.1"
  }
 },
 "nbformat": 4,
 "nbformat_minor": 1
}
